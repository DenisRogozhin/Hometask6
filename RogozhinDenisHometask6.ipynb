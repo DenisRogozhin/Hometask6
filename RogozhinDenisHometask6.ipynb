{
 "cells": [
  {
   "cell_type": "markdown",
   "metadata": {
    "slideshow": {
     "slide_type": "slide"
    }
   },
   "source": [
    "<center><img src=\"images/header.png\"></center>\n",
    "\n",
    "<h1><center>Рогожин Денис</center></h1>\n",
    "<hr>\n",
    "<h1><center>Домашняя работа</center></h1>"
   ]
  },
  {
   "cell_type": "markdown",
   "metadata": {},
   "source": [
    "Данное ДЗ является довольно творческим и оно требует довольно много самостоятельной работы, так что не стоит с ним мешкать =)\n",
    "\n",
    "Вам предлагается выбрать сообщество (или сообщества) в сети ВКонтакте и проанализировать его (их) контингент. \n",
    "\n",
    "\n",
    "**Правила:**\n",
    "* Отчеты принимаются до **23:59 19 ноября**. Вы должны залить ваш ноутбук в github дать на него ссылку в следующей [форме](https://forms.gle/88d9CfaJN5gPV4bB8).\n",
    "* Работоспособность будет проверяться через [colab](https://colab.research.google.com) (можете сразу давать ссылку на него). Если ноутбук не будет исполняться (падать по ошибке) то все, что будет написано после ошибки не будет учитываться при формировании оценки. Для самопроверки, выполните аналог restart kernel and run all cells в colab\n",
    "* Вы должны включить код, с помощью которого вы общались с API вконтакте, но для экономии времени, заранее предусмотреть возможность загрузки уже собранных данных (например, как это было реализовано в ноутбуках по кластеризации через `wget` и dropbox или raw данными в github)\n",
    "\n",
    "**Пожелания:**\n",
    "* Выбирайте для анализа небольшие сообщества (до 5к), желательно чтобы вы сами в них состояли - это ускорит вычисления и упростит интерпретацию\n",
    "* Отнеситесь к этой работе как к исследованию - больше графиков и комментариев!\n",
    "* Красивые визуализации лучше делать через gephi!"
   ]
  },
  {
   "cell_type": "markdown",
   "metadata": {},
   "source": [
    "# Загрузка данных (2 балла)"
   ]
  },
  {
   "cell_type": "markdown",
   "metadata": {
    "slideshow": {
     "slide_type": "subslide"
    }
   },
   "source": [
    "Изучите следующие материалы\n",
    "* [Знакомство с API](https://vk.com/dev/first_guide)\n",
    "* [Туториал](https://nbviewer.jupyter.org/github/allatambov/Py-programming-3/blob/master/15-06/lect-vk-api.ipynb) по выгрузке данных с помощью VKAPI\n",
    "* Про метод execute - [туть](https://vk.com/dev/execute) и [туть](http://www.cyberforum.ru/python-web/thread1730446.html)\n",
    "\n",
    "Выберите сообщество и загрузите\n",
    "* Идентификаторы всех [участников сообщества](https://vk.com/dev/groups.getMembers)\n",
    "* [Списки друзей](https://vk.com/dev/friends.get) участников и их признаки (пол, возраст, университет и все, что посчитаете нужным - нам потом группировать по этим атрибутам)\n",
    "* [Пересечение](https://vk.com/dev/friends.getMutual) между списками друзей\n",
    "\n",
    "Таким образом вы должны получить замкнутую группу аккаунтов с их друзьями и связями между ними.\n",
    "\n",
    "Далее - соберите их этого граф в networkX и сохраните в graphml или gml формате\n",
    "\n",
    "**Замечания:**\n",
    "* Вконтакте может ограничить вам скорость запросов, поэтому иногда имеет смысл ставить небольшую паузу (`time.sleep(1)`) между запросами и сохранять предварительные результаты\n",
    "* Код выгрузки может быть написан как с помощью модуля `vk` так и просто с помощью requests\n",
    "* Некоторые пользователи могли сделать свой аккаунт приватным, что может вызвать ошибку в методе `getMutual`. Чтобы этого избежать придется проверять каждого на приватность с помощью `users.get` и аттрибута `is_closed`\n"
   ]
  },
  {
   "cell_type": "code",
   "execution_count": 12,
   "metadata": {},
   "outputs": [
    {
     "data": {
      "text/plain": [
       "\"\\nimport vk\\nimport time\\ntoken='ТУТ БЫЛ ТОКЕН, НО ЕГО НЕЛЬЗЯ НИКОМУ ПЕРЕДАВАТЬ, ПОЭТОМУ Я ЕГО СТЕР'\\nsession = vk.Session(access_token = token)\\napi = vk.API(session)\\n\\n# Импортирую только пол, так как остальные признаки отсутствуют у многих\\nmembers=api.groups.getMembers(group_id=198317113,fields=['sex','universities','city','bdate'],v = 5.89) \\n#Выбрал группу своей кафедры \\nmember_id1=members['items']\\n\\n#оставляю только тех, у кого открыта страница в вк\\nmember_id=[]\\nfor m in member_id1:\\n    try:\\n        if m['is_closed']==False:\\n            member_id.append(m)\\n    except: \\n        print('no fieild is_closed')\\n#у некоторых людей почему-то нет этого поля(может быть из-за удаления/блокировки страницы, поэтому ловлю исключения\\n\\n#получаю список, каждый элемент которого список друзей участников\\nmember_friends=[]\\nfor m in member_id:\\n        member_friends.append(api.friends.get(user_id=m['id'],fields=['sex','universities','city','bdate'],v = 5.89))\\n        time.sleep(1)\\n        \\nfriends_list=[]\\nfor m in member_friends:\\n    friends_list.append(m['items'])\\n    \\n\\n#остается получить списки друзей\\n#метод Get mutual мне в этом не помог:с \\n#очень быстро исчерпывается лимит обращений: VkAPIError: 29. Rate limit reached. \\n#но я выкрутился и сделал так: выгрузил списки друзей для всех друзей участников и пересек их со списками друзей для участников.\\n \\n    \\n#составляю список всех друзей участников, у кого открыта страница    \\n\\nfriend_id=[]\\ndef find_in_friend_id(x):\\n    for m in friend_id:\\n        if x==m['id']:\\n            return True\\n    return False       \\n \\nfor i in range (0,len(friends_list)):\\n    for m in friends_list[i]:\\n        try:\\n            if m['is_closed']==False and not find_in_friend_id(m['id']):\\n                friend_id.append(m)\\n        except: \\n            print('no fieild is_closed')\\n           \\n #строю список друзей друзей участников        \\nmember_friends_friends=[]\\nfor m in friend_id:\\n        member_friends_friends.append(api.friends.get(user_id=m['id'],fields=['sex','universities','city','bdate'],v = 5.89))\\n        time.sleep(0.4)\\n        \\nmember_friends_friends_t=[]\\nfor m in member_friends_friends:\\n    member_friends_friends_t.append(m['items'])\\n   \\n #пересечение списка друзей между i-ым и j-ым юзером\\ndef find_friends(fr_i,fr_j):\\n    res=[]\\n    for i in range (0,len(fr_i)):\\n        for j in range (0,len(fr_j)):\\n            if fr_i[i]['id']==fr_j[j]['id']:\\n                x=fr_i[i]['id']\\n                res.append(x)\\n                break\\n    return res\\n\\n\\n#строю список общих друзей: каждый его элемент - это список вида [i j [k1,...,kn]]\\n#i,j - id двух пользователей, [k1,...,kn]- список их общих друзей\\ncommon_friends=[]\\nfor i in range(0,len(member_friends_friends_t)):\\n    for j in range(0,len(member_id)):\\n        x=find_friends(member_friends_friends_t[i],friends_list[j])\\n        y=[friend_id[i]['id'],member_id[j]['id'],x]\\n        common_friends.append(y)    \\n    \\n\""
      ]
     },
     "execution_count": 12,
     "metadata": {},
     "output_type": "execute_result"
    }
   ],
   "source": [
    "\"\"\"\n",
    "import vk\n",
    "import time\n",
    "token='ТУТ БЫЛ ТОКЕН, НО ЕГО НЕЛЬЗЯ НИКОМУ ПЕРЕДАВАТЬ, ПОЭТОМУ Я ЕГО СТЕР'\n",
    "session = vk.Session(access_token = token)\n",
    "api = vk.API(session)\n",
    "\n",
    "# Импортирую только пол, так как остальные признаки отсутствуют у многих\n",
    "members=api.groups.getMembers(group_id=198317113,fields=['sex','universities','city','bdate'],v = 5.89) \n",
    "#Выбрал группу своей кафедры \n",
    "member_id1=members['items']\n",
    "\n",
    "#оставляю только тех, у кого открыта страница в вк\n",
    "member_id=[]\n",
    "for m in member_id1:\n",
    "    try:\n",
    "        if m['is_closed']==False:\n",
    "            member_id.append(m)\n",
    "    except: \n",
    "        print('no fieild is_closed')\n",
    "#у некоторых людей почему-то нет этого поля(может быть из-за удаления/блокировки страницы, поэтому ловлю исключения\n",
    "\n",
    "#получаю список, каждый элемент которого список друзей участников\n",
    "member_friends=[]\n",
    "for m in member_id:\n",
    "        member_friends.append(api.friends.get(user_id=m['id'],fields=['sex','universities','city','bdate'],v = 5.89))\n",
    "        time.sleep(1)\n",
    "        \n",
    "friends_list=[]\n",
    "for m in member_friends:\n",
    "    friends_list.append(m['items'])\n",
    "    \n",
    "\n",
    "#остается получить списки друзей\n",
    "#метод Get mutual мне в этом не помог:с \n",
    "#очень быстро исчерпывается лимит обращений: VkAPIError: 29. Rate limit reached. \n",
    "#но я выкрутился и сделал так: выгрузил списки друзей для всех друзей участников и пересек их со списками друзей для участников.\n",
    " \n",
    "    \n",
    "#составляю список всех друзей участников, у кого открыта страница    \n",
    "\n",
    "friend_id=[]\n",
    "def find_in_friend_id(x):\n",
    "    for m in friend_id:\n",
    "        if x==m['id']:\n",
    "            return True\n",
    "    return False       \n",
    " \n",
    "for i in range (0,len(friends_list)):\n",
    "    for m in friends_list[i]:\n",
    "        try:\n",
    "            if m['is_closed']==False and not find_in_friend_id(m['id']):\n",
    "                friend_id.append(m)\n",
    "        except: \n",
    "            print('no fieild is_closed')\n",
    "           \n",
    " #строю список друзей друзей участников        \n",
    "member_friends_friends=[]\n",
    "for m in friend_id:\n",
    "        member_friends_friends.append(api.friends.get(user_id=m['id'],fields=['sex','universities','city','bdate'],v = 5.89))\n",
    "        time.sleep(0.4)\n",
    "        \n",
    "member_friends_friends_t=[]\n",
    "for m in member_friends_friends:\n",
    "    member_friends_friends_t.append(m['items'])\n",
    "   \n",
    " #пересечение списка друзей между i-ым и j-ым юзером\n",
    "def find_friends(fr_i,fr_j):\n",
    "    res=[]\n",
    "    for i in range (0,len(fr_i)):\n",
    "        for j in range (0,len(fr_j)):\n",
    "            if fr_i[i]['id']==fr_j[j]['id']:\n",
    "                x=fr_i[i]['id']\n",
    "                res.append(x)\n",
    "                break\n",
    "    return res\n",
    "\n",
    "\n",
    "#строю список общих друзей: каждый его элемент - это список вида [i j [k1,...,kn]]\n",
    "#i,j - id двух пользователей, [k1,...,kn]- список их общих друзей\n",
    "common_friends=[]\n",
    "for i in range(0,len(member_friends_friends_t)):\n",
    "    for j in range(0,len(member_id)):\n",
    "        x=find_friends(member_friends_friends_t[i],friends_list[j])\n",
    "        y=[friend_id[i]['id'],member_id[j]['id'],x]\n",
    "        common_friends.append(y)    \n",
    "    \n",
    "\"\"\"    "
   ]
  },
  {
   "cell_type": "code",
   "execution_count": 13,
   "metadata": {},
   "outputs": [
    {
     "data": {
      "text/plain": [
       "\"\\nimport networkx as nx\\n\\ng = nx.Graph()\\n#добавляю участников сообщества в граф\\ng.add_nodes_from((m['id'], {'sex': m['sex'], \\n                                'first_name': m['first_name'], \\n                                'last_name': m['last_name'], \\n                                 }) for m in member_id)\\n\\n#добавляю друзей участников в граф\\nfor i in range (0,len(friends_list)):\\n    g.add_nodes_from((m['id'], {'sex': m['sex'], \\n                                'first_name': m['first_name'], \\n                                'last_name': m['last_name'], \\n                                 }) for m in friends_list[i])\\n    \\n#соединяю ребрами участников и их друзей    \\nfor i in range (0,len(friends_list)):\\n    for m in friends_list[i]:\\n        g.add_edge(m['id'],member_id[i]['id'])  \\n        \\n        \\n#остается соединить дугами друзей разных участников между собой\\n#метод Get mutual мне в этом не помог:с \\n#очень быстро исчерпывается лимит обращений: VkAPIError: 29. Rate limit reached. \\n#но я выкрутился и сделал так: выгрузил списки друзей для всех друзей участников и пересек их со списками друзей для участников.\\n\\nfor m in common_friends:\\n    i=m[0]\\n    j=m[1]\\n    com_fr_i_j=m[2]\\n    for x in com_fr_i_j:\\n        g.add_edge(i,x)\\n        g.add_edge(j,x) \\n        \\nnx.write_graphml(g, 'gr.graphml') \\n\""
      ]
     },
     "execution_count": 13,
     "metadata": {},
     "output_type": "execute_result"
    }
   ],
   "source": [
    "\"\"\"\n",
    "import networkx as nx\n",
    "\n",
    "g = nx.Graph()\n",
    "#добавляю участников сообщества в граф\n",
    "g.add_nodes_from((m['id'], {'sex': m['sex'], \n",
    "                                'first_name': m['first_name'], \n",
    "                                'last_name': m['last_name'], \n",
    "                                 }) for m in member_id)\n",
    "\n",
    "#добавляю друзей участников в граф\n",
    "for i in range (0,len(friends_list)):\n",
    "    g.add_nodes_from((m['id'], {'sex': m['sex'], \n",
    "                                'first_name': m['first_name'], \n",
    "                                'last_name': m['last_name'], \n",
    "                                 }) for m in friends_list[i])\n",
    "    \n",
    "#соединяю ребрами участников и их друзей    \n",
    "for i in range (0,len(friends_list)):\n",
    "    for m in friends_list[i]:\n",
    "        g.add_edge(m['id'],member_id[i]['id'])  \n",
    "        \n",
    "        \n",
    "#остается соединить дугами друзей разных участников между собой\n",
    "#метод Get mutual мне в этом не помог:с \n",
    "#очень быстро исчерпывается лимит обращений: VkAPIError: 29. Rate limit reached. \n",
    "#но я выкрутился и сделал так: выгрузил списки друзей для всех друзей участников и пересек их со списками друзей для участников.\n",
    "\n",
    "for m in common_friends:\n",
    "    i=m[0]\n",
    "    j=m[1]\n",
    "    com_fr_i_j=m[2]\n",
    "    for x in com_fr_i_j:\n",
    "        g.add_edge(i,x)\n",
    "        g.add_edge(j,x) \n",
    "        \n",
    "nx.write_graphml(g, 'gr.graphml') \n",
    "\"\"\""
   ]
  },
  {
   "cell_type": "code",
   "execution_count": 14,
   "metadata": {},
   "outputs": [],
   "source": [
    "import networkx as nx\n",
    "g = nx.read_graphml('gr.graphml')\n"
   ]
  },
  {
   "cell_type": "markdown",
   "metadata": {},
   "source": [
    "# Визуализация (1 балл)"
   ]
  },
  {
   "cell_type": "markdown",
   "metadata": {},
   "source": [
    "* Откройте полученный граф в gephi\n",
    "* Выберите наиболее удачный на ваш взгляд алгоритм прорисовки\n",
    "* Добавьте изменение размера вершины в зависимости от степени вершины\n",
    "* Вставьте скрин-шот ниже"
   ]
  },
  {
   "cell_type": "markdown",
   "metadata": {},
   "source": [
    "![](simple_graph.jpg)\n",
    "Вот такой получился граф после примерно часа ожидания работы алгоритма:)))"
   ]
  },
  {
   "cell_type": "markdown",
   "metadata": {},
   "source": [
    "# Центральности вершин (2 балла)"
   ]
  },
  {
   "cell_type": "markdown",
   "metadata": {},
   "source": [
    "Возможно, перед тем как пойти дальше, стоит немного почитстить граф - с помощью [kcore](https://www.google.com/search?client=firefox-b-d&q=networkx+kcore)\n",
    "\n",
    "* Найдите наиболее влиятельные вершины с точки зрения degree, closeness и betweenness centrality\n",
    "* Выделите их на картинке в gephi"
   ]
  },
  {
   "cell_type": "code",
   "execution_count": 15,
   "metadata": {},
   "outputs": [],
   "source": [
    "\n",
    "#btw = nx.centrality.betweenness_centrality(g)\n",
    "#nx.set_node_attributes(g, btw, \"betweenness\")\n",
    "#cl = nx.centrality.closeness_centrality(g)\n",
    "#nx.set_node_attributes(g, cl, \"closeness\")\n",
    "#de = nx.centrality.degree_centrality(g)\n",
    "#nx.set_node_attributes(g, de, \"degree\")\n",
    "#nx.write_graphml(g, 'final_graph.graphml')\n",
    "\n"
   ]
  },
  {
   "cell_type": "markdown",
   "metadata": {},
   "source": [
    "# betweenness centrality\n",
    "![](btw_graph.jpg)"
   ]
  },
  {
   "cell_type": "markdown",
   "metadata": {},
   "source": [
    "# closeness \n",
    "![](cl_graph.jpg)"
   ]
  },
  {
   "cell_type": "markdown",
   "metadata": {},
   "source": [
    "# degree\n",
    "![](de_graph.jpg)"
   ]
  },
  {
   "cell_type": "markdown",
   "metadata": {},
   "source": [
    "# Сообщества... в сообществе (2 балла)\n",
    "\n",
    "В этом задании надо примерить 2 алгоритма выявления сообществ и сравнить их результаты\n",
    "\n",
    "Выберите алгоритм выделения сообществ на графах, например\n",
    "* label propagation или \n",
    "* алгоритм на основе edge betweeness\n",
    "\n",
    "и алгоритм на основе похожести вершин, например \n",
    "* расчитатайте попарную похожесть по jaccard, косинусному расстоянию или корреляцию\n",
    "* при необходимости переведите \"похожесть\" в \"расстояние\" (чем больше значение тем \"дальше\" объекты друг от друга)\n",
    "* подайте матрицу попарных расстояний в алгоритм кластеризации, например в DBSCAN\n",
    "\n",
    "Для обоих вариантов\n",
    "* Выделите сообщества, опираясь на максимальное значение модулярности для полученного разбиения\n",
    "* Изобразите граф с вершинами, раскрашенными в цвет своего сообщества в gephi\n",
    "* Попробуйте проинтерпретировать полученные сообщества, кто эти люди, почему они связаны?\n",
    "* Какой метод на ваш взгляд сработал лучше?"
   ]
  },
  {
   "cell_type": "code",
   "execution_count": 16,
   "metadata": {},
   "outputs": [],
   "source": [
    "### Ваш код, картинки и комментарии ниже"
   ]
  },
  {
   "cell_type": "code",
   "execution_count": null,
   "metadata": {},
   "outputs": [],
   "source": []
  }
 ],
 "metadata": {
  "anaconda-cloud": {},
  "kernelspec": {
   "display_name": "Python 3",
   "language": "python",
   "name": "python3"
  },
  "language_info": {
   "codemirror_mode": {
    "name": "ipython",
    "version": 3
   },
   "file_extension": ".py",
   "mimetype": "text/x-python",
   "name": "python",
   "nbconvert_exporter": "python",
   "pygments_lexer": "ipython3",
   "version": "3.8.5"
  },
  "nav_menu": {},
  "toc": {
   "base_numbering": 1,
   "nav_menu": {
    "height": "347px",
    "width": "253px"
   },
   "number_sections": false,
   "sideBar": true,
   "skip_h1_title": false,
   "title_cell": "Table of Contents",
   "title_sidebar": "Contents",
   "toc_cell": false,
   "toc_position": {
    "height": "100px",
    "left": "46px",
    "right": "398.5px",
    "top": "111.133px",
    "width": "165px"
   },
   "toc_section_display": true,
   "toc_window_display": true
  },
  "toc_position": {
   "height": "40px",
   "left": "816px",
   "right": "38.6667px",
   "top": "0px",
   "width": "212px"
  }
 },
 "nbformat": 4,
 "nbformat_minor": 1
}
